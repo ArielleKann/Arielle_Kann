{
  "nbformat": 4,
  "nbformat_minor": 0,
  "metadata": {
    "colab": {
      "name": "Copy of Untitled2.ipynb",
      "provenance": [],
      "collapsed_sections": [],
      "authorship_tag": "ABX9TyNePWyND4mIeGi0vGfkfJFr",
      "include_colab_link": true
    },
    "kernelspec": {
      "name": "python3",
      "display_name": "Python 3"
    }
  },
  "cells": [
    {
      "cell_type": "markdown",
      "metadata": {
        "id": "view-in-github",
        "colab_type": "text"
      },
      "source": [
        "<a href=\"https://colab.research.google.com/github/ArielleKann/Arielle_Kann/blob/master/Copy_of_Untitled2.ipynb\" target=\"_parent\"><img src=\"https://colab.research.google.com/assets/colab-badge.svg\" alt=\"Open In Colab\"/></a>"
      ]
    },
    {
      "cell_type": "markdown",
      "metadata": {
        "id": "nP8N-S4c6fRV",
        "colab_type": "text"
      },
      "source": [
        "##Interest rates\n",
        "  If you were to enter the desired amount in the future, then put how much the interest rate is, and the number of years the money will grow. You will get the amount you would need to deposit now.\n",
        "  "
      ]
    },
    {
      "cell_type": "code",
      "metadata": {
        "id": "zyf0l20X-oSb",
        "colab_type": "code",
        "colab": {}
      },
      "source": [
        "future_value = float(input('Enter the desired future value:  '))\n",
        "rate = float(input('Enter the annual interest rate:  '))\n",
        "years = int(input('Enter the number of years the money will grow:  '))\n",
        "\n",
        "present_value = future_value/ (1.0 + rate)**years\n",
        "print('You will need to deposit this amount:', present_value)"
      ],
      "execution_count": null,
      "outputs": []
    },
    {
      "cell_type": "code",
      "metadata": {
        "id": "FG67hpcn7aUs",
        "colab_type": "code",
        "colab": {
          "base_uri": "https://localhost:8080/",
          "height": 130
        },
        "outputId": "9a49f1f2-4c76-48a2-ad6f-81ab527e6b34"
      },
      "source": [
        "## This is a chart that shows if you invest a certain amount and the interest is a certain amount, then you will end with a certain amount. \n",
        "\n",
        "start principal\tstart balance\tinterest\tend balance\tend principal\n",
        "1\t$20,000.00\t$20,000.00\t$1,526.52\t$33,526.53\t$32,000.00\n",
        "2\t$32,000.00\t$33,526.53\t$2,338.12\t$47,864.65\t$44,000.00\n",
        "3\t$44,000.00\t$47,864.65\t$3,198.41\t$63,063.06\t$56,000.00\n",
        "4\t$56,000.00\t$63,063.06\t$4,110.31\t$79,173.37\t$68,000.00\n",
        "5\t$68,000.00\t$79,173.37\t$5,076.94\t$96,250.30\t$80,000.00\n",
        "6\t$80,000.00\t$96,250.30\t$6,101.53\t$114,351.84\t$92,000.00\n",
        "7\t$92,000.00\t$114,351.84\t$7,187.62\t$133,539.48\t$104,000.00\n",
        "8\t$104,000.00\t$133,539.48\t$8,338.90\t$153,878.38\t$116,000.00\n",
        "9\t$116,000.00\t$153,878.38\t$9,559.22\t$175,437.61\t$128,000.00\n",
        "10\t$128,000.00\t$175,437.61\t$10,852.79\t$198,290.40\t$140,000.00"
      ],
      "execution_count": null,
      "outputs": [
        {
          "output_type": "error",
          "ename": "IndentationError",
          "evalue": "ignored",
          "traceback": [
            "\u001b[0;36m  File \u001b[0;32m\"<ipython-input-1-c982042fc77c>\"\u001b[0;36m, line \u001b[0;32m2\u001b[0m\n\u001b[0;31m    start principal\tstart balance\tinterest\tend balance\tend principal\u001b[0m\n\u001b[0m    ^\u001b[0m\n\u001b[0;31mIndentationError\u001b[0m\u001b[0;31m:\u001b[0m unexpected indent\n"
          ]
        }
      ]
    }
  ]
}