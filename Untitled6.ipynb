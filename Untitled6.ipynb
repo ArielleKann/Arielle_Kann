{
  "nbformat": 4,
  "nbformat_minor": 0,
  "metadata": {
    "colab": {
      "name": "Untitled6.ipynb",
      "provenance": [],
      "authorship_tag": "ABX9TyND0Ab7feLiQKW8omMYajso",
      "include_colab_link": true
    },
    "kernelspec": {
      "name": "python3",
      "display_name": "Python 3"
    }
  },
  "cells": [
    {
      "cell_type": "markdown",
      "metadata": {
        "id": "view-in-github",
        "colab_type": "text"
      },
      "source": [
        "<a href=\"https://colab.research.google.com/github/ArielleKann/Arielle_Kann/blob/master/Untitled6.ipynb\" target=\"_parent\"><img src=\"https://colab.research.google.com/assets/colab-badge.svg\" alt=\"Open In Colab\"/></a>"
      ]
    },
    {
      "cell_type": "code",
      "metadata": {
        "id": "_RD6i3lZ5jZ2",
        "outputId": "c8575bf0-f90d-44e2-ee28-3aeacd0c788a",
        "colab": {
          "base_uri": "https://localhost:8080/",
          "height": 130
        }
      },
      "source": [
        "\n",
        "if age <0 or >= 100\n",
        "  age = int(input('what is your age? \\n'))\n",
        "if age = >0 or <= 100\n",
        "  print('Thank you for an honest answer')\n",
        "age = -1 \n",
        "chances = 0\n",
        "if chances > 3:\n",
        "  print('you\\'ve exceeded your number of chances. Time is up.')\n",
        "break\n",
        "chances = chances + 1\n"
      ],
      "execution_count": 7,
      "outputs": [
        {
          "output_type": "error",
          "ename": "SyntaxError",
          "evalue": "ignored",
          "traceback": [
            "\u001b[0;36m  File \u001b[0;32m\"<ipython-input-7-481aa6ab312e>\"\u001b[0;36m, line \u001b[0;32m2\u001b[0m\n\u001b[0;31m    if age <0 or >= 100\u001b[0m\n\u001b[0m                  ^\u001b[0m\n\u001b[0;31mSyntaxError\u001b[0m\u001b[0;31m:\u001b[0m invalid syntax\n"
          ]
        }
      ]
    }
  ]
}