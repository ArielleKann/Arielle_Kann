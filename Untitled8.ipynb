{
  "nbformat": 4,
  "nbformat_minor": 0,
  "metadata": {
    "colab": {
      "name": "Untitled8.ipynb",
      "provenance": [],
      "authorship_tag": "ABX9TyPQ7L5K9nvN8JE7nU/vnEd9",
      "include_colab_link": true
    },
    "kernelspec": {
      "name": "python3",
      "display_name": "Python 3"
    }
  },
  "cells": [
    {
      "cell_type": "markdown",
      "metadata": {
        "id": "view-in-github",
        "colab_type": "text"
      },
      "source": [
        "<a href=\"https://colab.research.google.com/github/ArielleKann/Arielle_Kann/blob/master/Untitled8.ipynb\" target=\"_parent\"><img src=\"https://colab.research.google.com/assets/colab-badge.svg\" alt=\"Open In Colab\"/></a>"
      ]
    },
    {
      "cell_type": "code",
      "metadata": {
        "id": "FEes4omEHU28",
        "outputId": "4e3d3fbf-dc45-432b-a749-6d08dbb4931d",
        "colab": {
          "base_uri": "https://localhost:8080/"
        }
      },
      "source": [
        "import math\n",
        "import numpy as np\n",
        "import statistics\n",
        "import fractions\n",
        "from statistics import stdev\n",
        "\n",
        "big_array = np.random.rand(1000000)\n",
        "min(big_array), max(big_array)\n",
        "\n",
        "sample = [1, 2, 3, 4, 5]\n",
        "print(\"standard deviation of sample is % s\"\n",
        " % (statistics.stdev(sample)))\n"
      ],
      "execution_count": 13,
      "outputs": [
        {
          "output_type": "stream",
          "text": [
            "standard deviation of sample is 1.5811388300841898\n"
          ],
          "name": "stdout"
        }
      ]
    },
    {
      "cell_type": "code",
      "metadata": {
        "id": "5AUSmXEDbwPn",
        "outputId": "e9cbf565-7e28-4501-f7a8-0a1fbcdd91ca",
        "colab": {
          "base_uri": "https://localhost:8080/",
          "height": 130
        }
      },
      "source": [
        "import math\n",
        "import numpy as np \n",
        "\n",
        "def calc_square(a_side):\n",
        "   square_area = a_side ** 2\n",
        "   return square_area\n",
        "\n",
        "def calc_rectangle (w_side, l_side):  \n",
        "   rect_area= l_side * w_side\n",
        "   return rect_area \n",
        "\n",
        "def calc_triangle(base, height):\n",
        "   triangle_area= (base * height) / 2\n",
        "   return triangle_area\n",
        "\n",
        "def calc_circle(radius):\n",
        "   circle_area = math.pi * radius ** 2\n",
        "   return circle_area\n",
        "\n",
        "def area_calc_logic(user_calc):\n",
        "  if user_calc == \"square\":\n",
        "    a_side = float(raw_input(\"Give length of side: \"))\n",
        "    print calc_square(a_side)\n",
        "  elif user_calc == \"rectangle\":\n",
        "    l_side = float(raw_input(\"give the length: \"))\n",
        "    w_side = float(raw_input(\"give the width: \"))\n",
        "    print calc_rectangle(w_side, l_side)\n",
        "  elif user_calc == \"triangle\":\n",
        "    base = float(raw_input(\"give the length of base: \"))\n",
        "    height = float(raw_input(\"give the height: \"))\n",
        "    print calc_triangle(base, height)\n",
        "  elif user_calc == \"circle\":\n",
        "    radius = float(raw_input(\"give the radius: \"))\n",
        "    print calc_circle(radius)\n",
        "  else:\n",
        "    area_calc_logic(raw_input(\"error,re_enter input: \"))\n",
        "\n",
        "  print \"This program will calculate/narea of some geometric shapes for you\"\n",
        "  print \"Shapes available are square, triangle, rectangle and circle\"\n",
        "  print \"Enter square, rectangle, triangle, or circle\"\n",
        "  area_calc_logic(raw_input(\"what area would you like to calculate? \"))\n",
        "   \n",
        "\n",
        "\n"
      ],
      "execution_count": 28,
      "outputs": [
        {
          "output_type": "error",
          "ename": "SyntaxError",
          "evalue": "ignored",
          "traceback": [
            "\u001b[0;36m  File \u001b[0;32m\"<ipython-input-28-96b161283607>\"\u001b[0;36m, line \u001b[0;32m23\u001b[0m\n\u001b[0;31m    print calc_square (a_side):\u001b[0m\n\u001b[0m                    ^\u001b[0m\n\u001b[0;31mSyntaxError\u001b[0m\u001b[0;31m:\u001b[0m invalid syntax\n"
          ]
        }
      ]
    },
    {
      "cell_type": "code",
      "metadata": {
        "id": "xFINTPuDjcDV",
        "outputId": "4e63e1c4-cc52-430a-f9a0-d3154487cd73",
        "colab": {
          "base_uri": "https://localhost:8080/"
        }
      },
      "source": [
        "def doubleIt(x):\n",
        "  choice = int(input(' say 1 to double the numbers and 2 to double the values'))\n",
        "\n",
        "  if choice == 1:\n",
        "    return x*2\n",
        "\n",
        "  elif choice == 2:\n",
        "    for k in range(len(x)):\n",
        "      x[k] = x[k]*2\n",
        "    return x\n",
        "\n",
        "\n",
        "val = [1, 2, 3]\n",
        "other = doubleIt(val)\n",
        "\n",
        "\n",
        "print(other)\n"
      ],
      "execution_count": 33,
      "outputs": [
        {
          "output_type": "stream",
          "text": [
            " say 1 to double the numbers and 2 to double the values2\n",
            "[2, 4, 6]\n"
          ],
          "name": "stdout"
        }
      ]
    },
    {
      "cell_type": "code",
      "metadata": {
        "id": "DLHY9uHVo1XI",
        "outputId": "9a33d05c-1a61-48ac-93e6-0215ab491349",
        "colab": {
          "base_uri": "https://localhost:8080/"
        }
      },
      "source": [
        "x = [1, 2, 3]\n",
        "y = [7, 8, 9]\n",
        "other = []\n",
        "\n",
        "for i in range(len(x)):\n",
        "  other.append(x[i] *10 + y[i])\n",
        "\n",
        "print(other)"
      ],
      "execution_count": 34,
      "outputs": [
        {
          "output_type": "stream",
          "text": [
            "[17, 28, 39]\n"
          ],
          "name": "stdout"
        }
      ]
    },
    {
      "cell_type": "code",
      "metadata": {
        "id": "6dLllDqYq676",
        "outputId": "d8a90025-4284-4f9f-f7b7-e5d97ed8c4a0",
        "colab": {
          "base_uri": "https://localhost:8080/"
        }
      },
      "source": [
        "for num in range(2,101):\n",
        "  prime = True\n",
        "  for i in range(2,num):\n",
        "    if (num%i==0):\n",
        "      prime = False\n",
        "  if prime:\n",
        "    print (num)"
      ],
      "execution_count": 36,
      "outputs": [
        {
          "output_type": "stream",
          "text": [
            "2\n",
            "3\n",
            "5\n",
            "7\n",
            "11\n",
            "13\n",
            "17\n",
            "19\n",
            "23\n",
            "29\n",
            "31\n",
            "37\n",
            "41\n",
            "43\n",
            "47\n",
            "53\n",
            "59\n",
            "61\n",
            "67\n",
            "71\n",
            "73\n",
            "79\n",
            "83\n",
            "89\n",
            "97\n"
          ],
          "name": "stdout"
        }
      ]
    },
    {
      "cell_type": "code",
      "metadata": {
        "id": "pzIGXgSTrQOP",
        "outputId": "4e6055b8-9a42-415b-c745-d4d87430511c",
        "colab": {
          "base_uri": "https://localhost:8080/"
        }
      },
      "source": [
        "def calculation(a, b):\n",
        "  return a+b, a-b\n",
        "\n",
        "res = calculation(40,10)\n",
        "print(res)"
      ],
      "execution_count": 37,
      "outputs": [
        {
          "output_type": "stream",
          "text": [
            "(50, 30)\n"
          ],
          "name": "stdout"
        }
      ]
    },
    {
      "cell_type": "code",
      "metadata": {
        "id": "VzFuAATkpQHi",
        "outputId": "e206a474-58f0-4ce4-b16e-a67ea909a5cb",
        "colab": {
          "base_uri": "https://localhost:8080/"
        }
      },
      "source": [
        "def fib():\n",
        "  a = 1\n",
        "  b = 1\n",
        "  total = 0\n",
        "\n",
        "  for k in range(1000):\n",
        "    c = a +b\n",
        "    if  c >= 1000:\n",
        "      break\n",
        "    elif (c % 2 == 0):\n",
        "      total += c\n",
        "    a = b\n",
        "    b = c\n",
        "\n",
        "  return total\n",
        "print(fib())"
      ],
      "execution_count": 35,
      "outputs": [
        {
          "output_type": "stream",
          "text": [
            "798\n"
          ],
          "name": "stdout"
        }
      ]
    },
    {
      "cell_type": "code",
      "metadata": {
        "id": "fLfHQcjEnlGC"
      },
      "source": [
        "\n"
      ],
      "execution_count": null,
      "outputs": []
    }
  ]
}