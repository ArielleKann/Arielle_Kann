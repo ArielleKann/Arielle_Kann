{
  "nbformat": 4,
  "nbformat_minor": 0,
  "metadata": {
    "colab": {
      "name": "Untitled16.ipynb",
      "provenance": [],
      "authorship_tag": "ABX9TyMsHMscVmVw38M98RFpy0JG",
      "include_colab_link": true
    },
    "kernelspec": {
      "name": "python3",
      "display_name": "Python 3"
    }
  },
  "cells": [
    {
      "cell_type": "markdown",
      "metadata": {
        "id": "view-in-github",
        "colab_type": "text"
      },
      "source": [
        "<a href=\"https://colab.research.google.com/github/ArielleKann/Arielle_Kann/blob/master/Finalproject.ipynb\" target=\"_parent\"><img src=\"https://colab.research.google.com/assets/colab-badge.svg\" alt=\"Open In Colab\"/></a>"
      ]
    },
    {
      "cell_type": "markdown",
      "metadata": {
        "id": "XDUPNq8e-Oz8"
      },
      "source": [
        "The data that I am using was obtained in a survey of students math and portuguese language courses in secondary school. "
      ]
    },
    {
      "cell_type": "code",
      "metadata": {
        "colab": {
          "base_uri": "https://localhost:8080/"
        },
        "id": "W0h8P0SkMlsg",
        "outputId": "04b78334-24bf-4e84-ca87-ae5f67ecd00b"
      },
      "source": [
        "import pandas as pd\r\n",
        "import numpy as np\r\n",
        "import matplotlib.pyplot as plt\r\n",
        "import missingno as msno\r\n",
        "import seaborn as sns\r\n",
        "\r\n",
        "column_names = [ 'school' , 'sex', 'age', 'address', 'famsize', 'Pstatus', 'Medu', 'Fedu', 'Mjob', 'Fjob', 'reason', 'guatdian', 'traveltime', 'studytime', 'studytime', 'failures', 'schoolsup', 'famsup', 'paid', 'activities', 'nursery', 'higher', 'internet', 'romantic', 'famrel', 'freetime', 'goout', 'Dalc', 'Walc', 'health', 'absences', 'G1', 'G2', 'G3']\r\n",
        "\r\n",
        "\r\n",
        "df = pd.read_csv(\"https://raw.githubusercontent.com/ArielleKann/Data/main/student-mat.csv\")\r\n",
        "\r\n",
        "df = df.drop(0)\r\n",
        "\r\n",
        "df.info()\r\n",
        "\r\n"
      ],
      "execution_count": null,
      "outputs": [
        {
          "output_type": "stream",
          "text": [
            "<class 'pandas.core.frame.DataFrame'>\n",
            "Int64Index: 394 entries, 1 to 394\n",
            "Data columns (total 33 columns):\n",
            " #   Column      Non-Null Count  Dtype \n",
            "---  ------      --------------  ----- \n",
            " 0   school      394 non-null    object\n",
            " 1   sex         394 non-null    object\n",
            " 2   age         394 non-null    int64 \n",
            " 3   address     394 non-null    object\n",
            " 4   famsize     394 non-null    object\n",
            " 5   Pstatus     394 non-null    object\n",
            " 6   Medu        394 non-null    int64 \n",
            " 7   Fedu        394 non-null    int64 \n",
            " 8   Mjob        394 non-null    object\n",
            " 9   Fjob        394 non-null    object\n",
            " 10  reason      394 non-null    object\n",
            " 11  guardian    394 non-null    object\n",
            " 12  traveltime  394 non-null    int64 \n",
            " 13  studytime   394 non-null    int64 \n",
            " 14  failures    394 non-null    int64 \n",
            " 15  schoolsup   394 non-null    object\n",
            " 16  famsup      394 non-null    object\n",
            " 17  paid        394 non-null    object\n",
            " 18  activities  394 non-null    object\n",
            " 19  nursery     394 non-null    object\n",
            " 20  higher      394 non-null    object\n",
            " 21  internet    394 non-null    object\n",
            " 22  romantic    394 non-null    object\n",
            " 23  famrel      394 non-null    int64 \n",
            " 24  freetime    394 non-null    int64 \n",
            " 25  goout       394 non-null    int64 \n",
            " 26  Dalc        394 non-null    int64 \n",
            " 27  Walc        394 non-null    int64 \n",
            " 28  health      394 non-null    int64 \n",
            " 29  absences    394 non-null    int64 \n",
            " 30  G1          394 non-null    int64 \n",
            " 31  G2          394 non-null    int64 \n",
            " 32  G3          394 non-null    int64 \n",
            "dtypes: int64(16), object(17)\n",
            "memory usage: 104.7+ KB\n"
          ],
          "name": "stdout"
        }
      ]
    },
    {
      "cell_type": "markdown",
      "metadata": {
        "id": "7gebPUwGDwJ8"
      },
      "source": [
        "Dropped the irrelevant columns.\r\n",
        "The first 5 rows of data."
      ]
    },
    {
      "cell_type": "code",
      "metadata": {
        "colab": {
          "base_uri": "https://localhost:8080/",
          "height": 224
        },
        "id": "BEXQotj9Y2Zj",
        "outputId": "ed63dabe-01b0-4c74-b64a-3eb12064e504"
      },
      "source": [
        "df = df.drop(['school', 'address', 'famsize', 'Mjob', 'Fjob', 'reason', 'guardian', 'schoolsup', 'famsup', 'paid', 'activities', 'nursery', 'higher', 'internet', 'romantic'], axis=1)\r\n",
        "df.head(5)"
      ],
      "execution_count": null,
      "outputs": [
        {
          "output_type": "execute_result",
          "data": {
            "text/html": [
              "<div>\n",
              "<style scoped>\n",
              "    .dataframe tbody tr th:only-of-type {\n",
              "        vertical-align: middle;\n",
              "    }\n",
              "\n",
              "    .dataframe tbody tr th {\n",
              "        vertical-align: top;\n",
              "    }\n",
              "\n",
              "    .dataframe thead th {\n",
              "        text-align: right;\n",
              "    }\n",
              "</style>\n",
              "<table border=\"1\" class=\"dataframe\">\n",
              "  <thead>\n",
              "    <tr style=\"text-align: right;\">\n",
              "      <th></th>\n",
              "      <th>sex</th>\n",
              "      <th>age</th>\n",
              "      <th>Pstatus</th>\n",
              "      <th>Medu</th>\n",
              "      <th>Fedu</th>\n",
              "      <th>traveltime</th>\n",
              "      <th>studytime</th>\n",
              "      <th>failures</th>\n",
              "      <th>famrel</th>\n",
              "      <th>freetime</th>\n",
              "      <th>goout</th>\n",
              "      <th>Dalc</th>\n",
              "      <th>Walc</th>\n",
              "      <th>health</th>\n",
              "      <th>absences</th>\n",
              "      <th>G1</th>\n",
              "      <th>G2</th>\n",
              "      <th>G3</th>\n",
              "    </tr>\n",
              "  </thead>\n",
              "  <tbody>\n",
              "    <tr>\n",
              "      <th>1</th>\n",
              "      <td>F</td>\n",
              "      <td>17</td>\n",
              "      <td>T</td>\n",
              "      <td>1</td>\n",
              "      <td>1</td>\n",
              "      <td>1</td>\n",
              "      <td>2</td>\n",
              "      <td>0</td>\n",
              "      <td>5</td>\n",
              "      <td>3</td>\n",
              "      <td>3</td>\n",
              "      <td>1</td>\n",
              "      <td>1</td>\n",
              "      <td>3</td>\n",
              "      <td>4</td>\n",
              "      <td>5</td>\n",
              "      <td>5</td>\n",
              "      <td>6</td>\n",
              "    </tr>\n",
              "    <tr>\n",
              "      <th>2</th>\n",
              "      <td>F</td>\n",
              "      <td>15</td>\n",
              "      <td>T</td>\n",
              "      <td>1</td>\n",
              "      <td>1</td>\n",
              "      <td>1</td>\n",
              "      <td>2</td>\n",
              "      <td>3</td>\n",
              "      <td>4</td>\n",
              "      <td>3</td>\n",
              "      <td>2</td>\n",
              "      <td>2</td>\n",
              "      <td>3</td>\n",
              "      <td>3</td>\n",
              "      <td>10</td>\n",
              "      <td>7</td>\n",
              "      <td>8</td>\n",
              "      <td>10</td>\n",
              "    </tr>\n",
              "    <tr>\n",
              "      <th>3</th>\n",
              "      <td>F</td>\n",
              "      <td>15</td>\n",
              "      <td>T</td>\n",
              "      <td>4</td>\n",
              "      <td>2</td>\n",
              "      <td>1</td>\n",
              "      <td>3</td>\n",
              "      <td>0</td>\n",
              "      <td>3</td>\n",
              "      <td>2</td>\n",
              "      <td>2</td>\n",
              "      <td>1</td>\n",
              "      <td>1</td>\n",
              "      <td>5</td>\n",
              "      <td>2</td>\n",
              "      <td>15</td>\n",
              "      <td>14</td>\n",
              "      <td>15</td>\n",
              "    </tr>\n",
              "    <tr>\n",
              "      <th>4</th>\n",
              "      <td>F</td>\n",
              "      <td>16</td>\n",
              "      <td>T</td>\n",
              "      <td>3</td>\n",
              "      <td>3</td>\n",
              "      <td>1</td>\n",
              "      <td>2</td>\n",
              "      <td>0</td>\n",
              "      <td>4</td>\n",
              "      <td>3</td>\n",
              "      <td>2</td>\n",
              "      <td>1</td>\n",
              "      <td>2</td>\n",
              "      <td>5</td>\n",
              "      <td>4</td>\n",
              "      <td>6</td>\n",
              "      <td>10</td>\n",
              "      <td>10</td>\n",
              "    </tr>\n",
              "    <tr>\n",
              "      <th>5</th>\n",
              "      <td>M</td>\n",
              "      <td>16</td>\n",
              "      <td>T</td>\n",
              "      <td>4</td>\n",
              "      <td>3</td>\n",
              "      <td>1</td>\n",
              "      <td>2</td>\n",
              "      <td>0</td>\n",
              "      <td>5</td>\n",
              "      <td>4</td>\n",
              "      <td>2</td>\n",
              "      <td>1</td>\n",
              "      <td>2</td>\n",
              "      <td>5</td>\n",
              "      <td>10</td>\n",
              "      <td>15</td>\n",
              "      <td>15</td>\n",
              "      <td>15</td>\n",
              "    </tr>\n",
              "  </tbody>\n",
              "</table>\n",
              "</div>"
            ],
            "text/plain": [
              "  sex  age Pstatus  Medu  Fedu  traveltime  ...  Walc  health  absences  G1  G2  G3\n",
              "1   F   17       T     1     1           1  ...     1       3         4   5   5   6\n",
              "2   F   15       T     1     1           1  ...     3       3        10   7   8  10\n",
              "3   F   15       T     4     2           1  ...     1       5         2  15  14  15\n",
              "4   F   16       T     3     3           1  ...     2       5         4   6  10  10\n",
              "5   M   16       T     4     3           1  ...     2       5        10  15  15  15\n",
              "\n",
              "[5 rows x 18 columns]"
            ]
          },
          "metadata": {
            "tags": []
          },
          "execution_count": 3
        }
      ]
    },
    {
      "cell_type": "markdown",
      "metadata": {
        "id": "Jfq0nZPoD-Gj"
      },
      "source": [
        "The last 5 rows of data."
      ]
    },
    {
      "cell_type": "code",
      "metadata": {
        "colab": {
          "base_uri": "https://localhost:8080/",
          "height": 224
        },
        "id": "TSV5ogPv9NfS",
        "outputId": "69059b34-fe55-4919-e301-aae31481c051"
      },
      "source": [
        "df.tail(5)\r\n"
      ],
      "execution_count": null,
      "outputs": [
        {
          "output_type": "execute_result",
          "data": {
            "text/html": [
              "<div>\n",
              "<style scoped>\n",
              "    .dataframe tbody tr th:only-of-type {\n",
              "        vertical-align: middle;\n",
              "    }\n",
              "\n",
              "    .dataframe tbody tr th {\n",
              "        vertical-align: top;\n",
              "    }\n",
              "\n",
              "    .dataframe thead th {\n",
              "        text-align: right;\n",
              "    }\n",
              "</style>\n",
              "<table border=\"1\" class=\"dataframe\">\n",
              "  <thead>\n",
              "    <tr style=\"text-align: right;\">\n",
              "      <th></th>\n",
              "      <th>sex</th>\n",
              "      <th>age</th>\n",
              "      <th>Pstatus</th>\n",
              "      <th>Medu</th>\n",
              "      <th>Fedu</th>\n",
              "      <th>traveltime</th>\n",
              "      <th>studytime</th>\n",
              "      <th>failures</th>\n",
              "      <th>famrel</th>\n",
              "      <th>freetime</th>\n",
              "      <th>goout</th>\n",
              "      <th>Dalc</th>\n",
              "      <th>Walc</th>\n",
              "      <th>health</th>\n",
              "      <th>absences</th>\n",
              "      <th>G1</th>\n",
              "      <th>G2</th>\n",
              "      <th>G3</th>\n",
              "    </tr>\n",
              "  </thead>\n",
              "  <tbody>\n",
              "    <tr>\n",
              "      <th>390</th>\n",
              "      <td>M</td>\n",
              "      <td>20</td>\n",
              "      <td>A</td>\n",
              "      <td>2</td>\n",
              "      <td>2</td>\n",
              "      <td>1</td>\n",
              "      <td>2</td>\n",
              "      <td>2</td>\n",
              "      <td>5</td>\n",
              "      <td>5</td>\n",
              "      <td>4</td>\n",
              "      <td>4</td>\n",
              "      <td>5</td>\n",
              "      <td>4</td>\n",
              "      <td>11</td>\n",
              "      <td>9</td>\n",
              "      <td>9</td>\n",
              "      <td>9</td>\n",
              "    </tr>\n",
              "    <tr>\n",
              "      <th>391</th>\n",
              "      <td>M</td>\n",
              "      <td>17</td>\n",
              "      <td>T</td>\n",
              "      <td>3</td>\n",
              "      <td>1</td>\n",
              "      <td>2</td>\n",
              "      <td>1</td>\n",
              "      <td>0</td>\n",
              "      <td>2</td>\n",
              "      <td>4</td>\n",
              "      <td>5</td>\n",
              "      <td>3</td>\n",
              "      <td>4</td>\n",
              "      <td>2</td>\n",
              "      <td>3</td>\n",
              "      <td>14</td>\n",
              "      <td>16</td>\n",
              "      <td>16</td>\n",
              "    </tr>\n",
              "    <tr>\n",
              "      <th>392</th>\n",
              "      <td>M</td>\n",
              "      <td>21</td>\n",
              "      <td>T</td>\n",
              "      <td>1</td>\n",
              "      <td>1</td>\n",
              "      <td>1</td>\n",
              "      <td>1</td>\n",
              "      <td>3</td>\n",
              "      <td>5</td>\n",
              "      <td>5</td>\n",
              "      <td>3</td>\n",
              "      <td>3</td>\n",
              "      <td>3</td>\n",
              "      <td>3</td>\n",
              "      <td>3</td>\n",
              "      <td>10</td>\n",
              "      <td>8</td>\n",
              "      <td>7</td>\n",
              "    </tr>\n",
              "    <tr>\n",
              "      <th>393</th>\n",
              "      <td>M</td>\n",
              "      <td>18</td>\n",
              "      <td>T</td>\n",
              "      <td>3</td>\n",
              "      <td>2</td>\n",
              "      <td>3</td>\n",
              "      <td>1</td>\n",
              "      <td>0</td>\n",
              "      <td>4</td>\n",
              "      <td>4</td>\n",
              "      <td>1</td>\n",
              "      <td>3</td>\n",
              "      <td>4</td>\n",
              "      <td>5</td>\n",
              "      <td>0</td>\n",
              "      <td>11</td>\n",
              "      <td>12</td>\n",
              "      <td>10</td>\n",
              "    </tr>\n",
              "    <tr>\n",
              "      <th>394</th>\n",
              "      <td>M</td>\n",
              "      <td>19</td>\n",
              "      <td>T</td>\n",
              "      <td>1</td>\n",
              "      <td>1</td>\n",
              "      <td>1</td>\n",
              "      <td>1</td>\n",
              "      <td>0</td>\n",
              "      <td>3</td>\n",
              "      <td>2</td>\n",
              "      <td>3</td>\n",
              "      <td>3</td>\n",
              "      <td>3</td>\n",
              "      <td>5</td>\n",
              "      <td>5</td>\n",
              "      <td>8</td>\n",
              "      <td>9</td>\n",
              "      <td>9</td>\n",
              "    </tr>\n",
              "  </tbody>\n",
              "</table>\n",
              "</div>"
            ],
            "text/plain": [
              "    sex  age Pstatus  Medu  Fedu  ...  health  absences  G1  G2  G3\n",
              "390   M   20       A     2     2  ...       4        11   9   9   9\n",
              "391   M   17       T     3     1  ...       2         3  14  16  16\n",
              "392   M   21       T     1     1  ...       3         3  10   8   7\n",
              "393   M   18       T     3     2  ...       5         0  11  12  10\n",
              "394   M   19       T     1     1  ...       5         5   8   9   9\n",
              "\n",
              "[5 rows x 18 columns]"
            ]
          },
          "metadata": {
            "tags": []
          },
          "execution_count": 4
        }
      ]
    },
    {
      "cell_type": "markdown",
      "metadata": {
        "id": "0mqUcPJOERxJ"
      },
      "source": [
        "Counts the amount of rows there are. "
      ]
    },
    {
      "cell_type": "code",
      "metadata": {
        "colab": {
          "base_uri": "https://localhost:8080/"
        },
        "id": "IGAFrHqfAZJd",
        "outputId": "b90e95f6-37ee-400e-8a3a-9e114a9d9903"
      },
      "source": [
        "df.count()\r\n"
      ],
      "execution_count": null,
      "outputs": [
        {
          "output_type": "execute_result",
          "data": {
            "text/plain": [
              "sex           394\n",
              "age           394\n",
              "Pstatus       394\n",
              "Medu          394\n",
              "Fedu          394\n",
              "traveltime    394\n",
              "studytime     394\n",
              "failures      394\n",
              "famrel        394\n",
              "freetime      394\n",
              "goout         394\n",
              "Dalc          394\n",
              "Walc          394\n",
              "health        394\n",
              "absences      394\n",
              "G1            394\n",
              "G2            394\n",
              "G3            394\n",
              "dtype: int64"
            ]
          },
          "metadata": {
            "tags": []
          },
          "execution_count": 5
        }
      ]
    },
    {
      "cell_type": "markdown",
      "metadata": {
        "id": "V3DjTpOeEWC8"
      },
      "source": [
        "Dropped the duplicate rows and shows the first 5 rows of data. "
      ]
    },
    {
      "cell_type": "code",
      "metadata": {
        "colab": {
          "base_uri": "https://localhost:8080/",
          "height": 224
        },
        "id": "rEXESf69ZiW0",
        "outputId": "4e8424b3-7372-4778-ab32-32e34685e54f"
      },
      "source": [
        "df=df.drop_duplicates()\r\n",
        "df.head(5)"
      ],
      "execution_count": null,
      "outputs": [
        {
          "output_type": "execute_result",
          "data": {
            "text/html": [
              "<div>\n",
              "<style scoped>\n",
              "    .dataframe tbody tr th:only-of-type {\n",
              "        vertical-align: middle;\n",
              "    }\n",
              "\n",
              "    .dataframe tbody tr th {\n",
              "        vertical-align: top;\n",
              "    }\n",
              "\n",
              "    .dataframe thead th {\n",
              "        text-align: right;\n",
              "    }\n",
              "</style>\n",
              "<table border=\"1\" class=\"dataframe\">\n",
              "  <thead>\n",
              "    <tr style=\"text-align: right;\">\n",
              "      <th></th>\n",
              "      <th>sex</th>\n",
              "      <th>age</th>\n",
              "      <th>Pstatus</th>\n",
              "      <th>Medu</th>\n",
              "      <th>Fedu</th>\n",
              "      <th>traveltime</th>\n",
              "      <th>studytime</th>\n",
              "      <th>failures</th>\n",
              "      <th>famrel</th>\n",
              "      <th>freetime</th>\n",
              "      <th>goout</th>\n",
              "      <th>Dalc</th>\n",
              "      <th>Walc</th>\n",
              "      <th>health</th>\n",
              "      <th>absences</th>\n",
              "      <th>G1</th>\n",
              "      <th>G2</th>\n",
              "      <th>G3</th>\n",
              "    </tr>\n",
              "  </thead>\n",
              "  <tbody>\n",
              "    <tr>\n",
              "      <th>1</th>\n",
              "      <td>F</td>\n",
              "      <td>17</td>\n",
              "      <td>T</td>\n",
              "      <td>1</td>\n",
              "      <td>1</td>\n",
              "      <td>1</td>\n",
              "      <td>2</td>\n",
              "      <td>0</td>\n",
              "      <td>5</td>\n",
              "      <td>3</td>\n",
              "      <td>3</td>\n",
              "      <td>1</td>\n",
              "      <td>1</td>\n",
              "      <td>3</td>\n",
              "      <td>4</td>\n",
              "      <td>5</td>\n",
              "      <td>5</td>\n",
              "      <td>6</td>\n",
              "    </tr>\n",
              "    <tr>\n",
              "      <th>2</th>\n",
              "      <td>F</td>\n",
              "      <td>15</td>\n",
              "      <td>T</td>\n",
              "      <td>1</td>\n",
              "      <td>1</td>\n",
              "      <td>1</td>\n",
              "      <td>2</td>\n",
              "      <td>3</td>\n",
              "      <td>4</td>\n",
              "      <td>3</td>\n",
              "      <td>2</td>\n",
              "      <td>2</td>\n",
              "      <td>3</td>\n",
              "      <td>3</td>\n",
              "      <td>10</td>\n",
              "      <td>7</td>\n",
              "      <td>8</td>\n",
              "      <td>10</td>\n",
              "    </tr>\n",
              "    <tr>\n",
              "      <th>3</th>\n",
              "      <td>F</td>\n",
              "      <td>15</td>\n",
              "      <td>T</td>\n",
              "      <td>4</td>\n",
              "      <td>2</td>\n",
              "      <td>1</td>\n",
              "      <td>3</td>\n",
              "      <td>0</td>\n",
              "      <td>3</td>\n",
              "      <td>2</td>\n",
              "      <td>2</td>\n",
              "      <td>1</td>\n",
              "      <td>1</td>\n",
              "      <td>5</td>\n",
              "      <td>2</td>\n",
              "      <td>15</td>\n",
              "      <td>14</td>\n",
              "      <td>15</td>\n",
              "    </tr>\n",
              "    <tr>\n",
              "      <th>4</th>\n",
              "      <td>F</td>\n",
              "      <td>16</td>\n",
              "      <td>T</td>\n",
              "      <td>3</td>\n",
              "      <td>3</td>\n",
              "      <td>1</td>\n",
              "      <td>2</td>\n",
              "      <td>0</td>\n",
              "      <td>4</td>\n",
              "      <td>3</td>\n",
              "      <td>2</td>\n",
              "      <td>1</td>\n",
              "      <td>2</td>\n",
              "      <td>5</td>\n",
              "      <td>4</td>\n",
              "      <td>6</td>\n",
              "      <td>10</td>\n",
              "      <td>10</td>\n",
              "    </tr>\n",
              "    <tr>\n",
              "      <th>5</th>\n",
              "      <td>M</td>\n",
              "      <td>16</td>\n",
              "      <td>T</td>\n",
              "      <td>4</td>\n",
              "      <td>3</td>\n",
              "      <td>1</td>\n",
              "      <td>2</td>\n",
              "      <td>0</td>\n",
              "      <td>5</td>\n",
              "      <td>4</td>\n",
              "      <td>2</td>\n",
              "      <td>1</td>\n",
              "      <td>2</td>\n",
              "      <td>5</td>\n",
              "      <td>10</td>\n",
              "      <td>15</td>\n",
              "      <td>15</td>\n",
              "      <td>15</td>\n",
              "    </tr>\n",
              "  </tbody>\n",
              "</table>\n",
              "</div>"
            ],
            "text/plain": [
              "  sex  age Pstatus  Medu  Fedu  traveltime  ...  Walc  health  absences  G1  G2  G3\n",
              "1   F   17       T     1     1           1  ...     1       3         4   5   5   6\n",
              "2   F   15       T     1     1           1  ...     3       3        10   7   8  10\n",
              "3   F   15       T     4     2           1  ...     1       5         2  15  14  15\n",
              "4   F   16       T     3     3           1  ...     2       5         4   6  10  10\n",
              "5   M   16       T     4     3           1  ...     2       5        10  15  15  15\n",
              "\n",
              "[5 rows x 18 columns]"
            ]
          },
          "metadata": {
            "tags": []
          },
          "execution_count": 6
        }
      ]
    },
    {
      "cell_type": "markdown",
      "metadata": {
        "id": "jhvB8sLPEkHd"
      },
      "source": [
        "Dropped the missing or null values.\r\n",
        "There is no null values or missing values."
      ]
    },
    {
      "cell_type": "code",
      "metadata": {
        "colab": {
          "base_uri": "https://localhost:8080/"
        },
        "id": "De0uf1QSZt_9",
        "outputId": "729a452a-cbd9-4009-d230-d8d16c8060ce"
      },
      "source": [
        "print(df.isnull().sum())"
      ],
      "execution_count": null,
      "outputs": [
        {
          "output_type": "stream",
          "text": [
            "sex           0\n",
            "age           0\n",
            "Pstatus       0\n",
            "Medu          0\n",
            "Fedu          0\n",
            "traveltime    0\n",
            "studytime     0\n",
            "failures      0\n",
            "famrel        0\n",
            "freetime      0\n",
            "goout         0\n",
            "Dalc          0\n",
            "Walc          0\n",
            "health        0\n",
            "absences      0\n",
            "G1            0\n",
            "G2            0\n",
            "G3            0\n",
            "dtype: int64\n"
          ],
          "name": "stdout"
        }
      ]
    },
    {
      "cell_type": "markdown",
      "metadata": {
        "id": "Ab1khgHkEyoX"
      },
      "source": [
        "After dropping the missing values.\r\n",
        "The number of lines stays the same since nothing got dropped. "
      ]
    },
    {
      "cell_type": "code",
      "metadata": {
        "colab": {
          "base_uri": "https://localhost:8080/"
        },
        "id": "PBGHL0YOZ2cO",
        "outputId": "16dc7243-8c64-41ca-b7cf-faa7cbce0d26"
      },
      "source": [
        "df=df.dropna()\r\n",
        "df.count()"
      ],
      "execution_count": null,
      "outputs": [
        {
          "output_type": "execute_result",
          "data": {
            "text/plain": [
              "sex           394\n",
              "age           394\n",
              "Pstatus       394\n",
              "Medu          394\n",
              "Fedu          394\n",
              "traveltime    394\n",
              "studytime     394\n",
              "failures      394\n",
              "famrel        394\n",
              "freetime      394\n",
              "goout         394\n",
              "Dalc          394\n",
              "Walc          394\n",
              "health        394\n",
              "absences      394\n",
              "G1            394\n",
              "G2            394\n",
              "G3            394\n",
              "dtype: int64"
            ]
          },
          "metadata": {
            "tags": []
          },
          "execution_count": 9
        }
      ]
    },
    {
      "cell_type": "markdown",
      "metadata": {
        "id": "TsgEHn9fE-Jy"
      },
      "source": [
        "After dropping the values.\r\n",
        "The number stays the same since nothing got dropped. "
      ]
    },
    {
      "cell_type": "code",
      "metadata": {
        "colab": {
          "base_uri": "https://localhost:8080/"
        },
        "id": "N4I7m693aZyz",
        "outputId": "a33a78d3-97a7-495d-a3ae-12f2286efc49"
      },
      "source": [
        "print(df.isnull().sum())"
      ],
      "execution_count": null,
      "outputs": [
        {
          "output_type": "stream",
          "text": [
            "sex           0\n",
            "age           0\n",
            "Pstatus       0\n",
            "Medu          0\n",
            "Fedu          0\n",
            "traveltime    0\n",
            "studytime     0\n",
            "failures      0\n",
            "famrel        0\n",
            "freetime      0\n",
            "goout         0\n",
            "Dalc          0\n",
            "Walc          0\n",
            "health        0\n",
            "absences      0\n",
            "G1            0\n",
            "G2            0\n",
            "G3            0\n",
            "dtype: int64\n"
          ],
          "name": "stdout"
        }
      ]
    },
    {
      "cell_type": "markdown",
      "metadata": {
        "id": "y_tBMYF4FNVi"
      },
      "source": [
        "Detecting the outliers\r\n",
        "(there is one outlier for age).\r\n",
        "The age is basically between 16 and 18 with one outlier that is 22. "
      ]
    },
    {
      "cell_type": "code",
      "metadata": {
        "colab": {
          "base_uri": "https://localhost:8080/",
          "height": 296
        },
        "id": "OWZecQe5ahS_",
        "outputId": "c2476675-adc8-4171-9100-d83fc0f6adf3"
      },
      "source": [
        "sns.boxplot(x=df['age']) "
      ],
      "execution_count": null,
      "outputs": [
        {
          "output_type": "execute_result",
          "data": {
            "text/plain": [
              "<matplotlib.axes._subplots.AxesSubplot at 0x7f85a3c54b38>"
            ]
          },
          "metadata": {
            "tags": []
          },
          "execution_count": 11
        },
        {
          "output_type": "display_data",
          "data": {
            "image/png": "[encoded data removed]",
            "text/plain": [
              "<Figure size 432x288 with 1 Axes>"
            ]
          },
          "metadata": {
            "tags": [],
            "needs_background": "light"
          }
        }
      ]
    },
    {
      "cell_type": "markdown",
      "metadata": {
        "id": "z9zvx0I7FVqa"
      },
      "source": [
        "There is one outlier for freetime. That outlier is only 1 hour of freetime while everyone else had between 3 and 4 hours of freetime. "
      ]
    },
    {
      "cell_type": "code",
      "metadata": {
        "colab": {
          "base_uri": "https://localhost:8080/",
          "height": 296
        },
        "id": "x3Kn17I5eg74",
        "outputId": "92c152c6-3e97-464b-9987-62d604b108b9"
      },
      "source": [
        "sns.boxplot(x=df['freetime'])"
      ],
      "execution_count": null,
      "outputs": [
        {
          "output_type": "execute_result",
          "data": {
            "text/plain": [
              "<matplotlib.axes._subplots.AxesSubplot at 0x7f85a2361da0>"
            ]
          },
          "metadata": {
            "tags": []
          },
          "execution_count": 12
        },
        {
          "output_type": "display_data",
          "data": {
            "image/png": "[encoded data removed]",
            "text/plain": [
              "<Figure size 432x288 with 1 Axes>"
            ]
          },
          "metadata": {
            "tags": [],
            "needs_background": "light"
          }
        }
      ]
    },
    {
      "cell_type": "markdown",
      "metadata": {
        "id": "e322F3ufFfEb"
      },
      "source": [
        "There is 13 outliers for absences. There was a lot of children that had absences above the average amount of between 0 and 8. "
      ]
    },
    {
      "cell_type": "code",
      "metadata": {
        "colab": {
          "base_uri": "https://localhost:8080/",
          "height": 296
        },
        "id": "lBYNxWY9eotH",
        "outputId": "7888d79d-1541-474b-efe9-51a7e2b6aec7"
      },
      "source": [
        "sns.boxplot(x=df['absences'])"
      ],
      "execution_count": null,
      "outputs": [
        {
          "output_type": "execute_result",
          "data": {
            "text/plain": [
              "<matplotlib.axes._subplots.AxesSubplot at 0x7f85a1e8e898>"
            ]
          },
          "metadata": {
            "tags": []
          },
          "execution_count": 13
        },
        {
          "output_type": "display_data",
          "data": {
            "image/png": "[encoded data removed]",
            "text/plain": [
              "<Figure size 432x288 with 1 Axes>"
            ]
          },
          "metadata": {
            "tags": [],
            "needs_background": "light"
          }
        }
      ]
    },
    {
      "cell_type": "code",
      "metadata": {
        "colab": {
          "base_uri": "https://localhost:8080/"
        },
        "id": "zFOdz9dFfZ5I",
        "outputId": "5ddcbc57-6739-43c1-b9fc-b7c7f91d17d8"
      },
      "source": [
        "Q1=df.quantile(.25)\r\n",
        "Q3=df.quantile(.75)\r\n",
        "IQR=Q3-Q1\r\n",
        "print(IQR)"
      ],
      "execution_count": null,
      "outputs": [
        {
          "output_type": "stream",
          "text": [
            "age           2.0\n",
            "Medu          2.0\n",
            "Fedu          1.0\n",
            "traveltime    1.0\n",
            "studytime     1.0\n",
            "failures      0.0\n",
            "famrel        1.0\n",
            "freetime      1.0\n",
            "goout         2.0\n",
            "Dalc          1.0\n",
            "Walc          2.0\n",
            "health        2.0\n",
            "absences      8.0\n",
            "G1            5.0\n",
            "G2            4.0\n",
            "G3            6.0\n",
            "dtype: float64\n"
          ],
          "name": "stdout"
        }
      ]
    },
    {
      "cell_type": "code",
      "metadata": {
        "colab": {
          "base_uri": "https://localhost:8080/"
        },
        "id": "IZk8YIi4fqTO",
        "outputId": "0657fea5-0ca6-4006-9000-7578f66a2e7c"
      },
      "source": [
        "df=df[~((df<(Q1 -1.5 * IQR))|(df>(Q3 + 1.5 * IQR))).any(axis=1)]\r\n",
        "df.shape"
      ],
      "execution_count": null,
      "outputs": [
        {
          "output_type": "execute_result",
          "data": {
            "text/plain": [
              "(231, 18)"
            ]
          },
          "metadata": {
            "tags": []
          },
          "execution_count": 15
        }
      ]
    },
    {
      "cell_type": "markdown",
      "metadata": {
        "id": "jViHzjNwF2p-"
      },
      "source": [
        "Histogram. Kids age and failure of class. Does age have to do with class failures?\r\n",
        "The older the kids got the less failures there was. "
      ]
    },
    {
      "cell_type": "code",
      "metadata": {
        "colab": {
          "base_uri": "https://localhost:8080/",
          "height": 352
        },
        "id": "SX4dJNAbgKdc",
        "outputId": "ff769aaa-3619-4743-9411-3b22ee690680"
      },
      "source": [
        "df.age.value_counts().nlargest(40).plot(kind='bar', figsize=(10,5))\r\n",
        "plt.title(\"Kids age and failure of class \")\r\n",
        "plt.ylabel('failures')\r\n",
        "plt.xlabel('age');\r\n"
      ],
      "execution_count": null,
      "outputs": [
        {
          "output_type": "display_data",
          "data": {
            "image/png": "[encoded data removed]",
            "text/plain": [
              "<Figure size 720x360 with 1 Axes>"
            ]
          },
          "metadata": {
            "tags": [],
            "needs_background": "light"
          }
        }
      ]
    },
    {
      "cell_type": "markdown",
      "metadata": {
        "id": "wjySggsxGJJ3"
      },
      "source": [
        "Heat map which helps to find the dependent variables. \r\n",
        "Is health the reason for absence?\r\n",
        "It is only the reason for -0.046% of the absences. "
      ]
    },
    {
      "cell_type": "code",
      "metadata": {
        "colab": {
          "base_uri": "https://localhost:8080/",
          "height": 913
        },
        "id": "GpUkY6ieizjh",
        "outputId": "a8f77c1b-281f-4db6-a472-de8cd9997a18"
      },
      "source": [
        "plt.figure(figsize=(10,5))\r\n",
        "c=df.corr()\r\n",
        "sns.heatmap(c,cmap=\"BrBG\", annot=True)\r\n",
        "c\r\n"
      ],
      "execution_count": null,
      "outputs": [
        {
          "output_type": "execute_result",
          "data": {
            "text/html": [
              "<div>\n",
              "<style scoped>\n",
              "    .dataframe tbody tr th:only-of-type {\n",
              "        vertical-align: middle;\n",
              "    }\n",
              "\n",
              "    .dataframe tbody tr th {\n",
              "        vertical-align: top;\n",
              "    }\n",
              "\n",
              "    .dataframe thead th {\n",
              "        text-align: right;\n",
              "    }\n",
              "</style>\n",
              "<table border=\"1\" class=\"dataframe\">\n",
              "  <thead>\n",
              "    <tr style=\"text-align: right;\">\n",
              "      <th></th>\n",
              "      <th>age</th>\n",
              "      <th>Medu</th>\n",
              "      <th>Fedu</th>\n",
              "      <th>traveltime</th>\n",
              "      <th>studytime</th>\n",
              "      <th>failures</th>\n",
              "      <th>famrel</th>\n",
              "      <th>freetime</th>\n",
              "      <th>goout</th>\n",
              "      <th>Dalc</th>\n",
              "      <th>Walc</th>\n",
              "      <th>health</th>\n",
              "      <th>absences</th>\n",
              "      <th>G1</th>\n",
              "      <th>G2</th>\n",
              "      <th>G3</th>\n",
              "    </tr>\n",
              "  </thead>\n",
              "  <tbody>\n",
              "    <tr>\n",
              "      <th>age</th>\n",
              "      <td>1.000000</td>\n",
              "      <td>-0.120303</td>\n",
              "      <td>-0.137541</td>\n",
              "      <td>0.193153</td>\n",
              "      <td>0.145908</td>\n",
              "      <td>NaN</td>\n",
              "      <td>0.007074</td>\n",
              "      <td>-0.069113</td>\n",
              "      <td>0.184266</td>\n",
              "      <td>0.106755</td>\n",
              "      <td>0.153016</td>\n",
              "      <td>-0.109873</td>\n",
              "      <td>0.202745</td>\n",
              "      <td>-0.046773</td>\n",
              "      <td>-0.155020</td>\n",
              "      <td>-0.176476</td>\n",
              "    </tr>\n",
              "    <tr>\n",
              "      <th>Medu</th>\n",
              "      <td>-0.120303</td>\n",
              "      <td>1.000000</td>\n",
              "      <td>0.601670</td>\n",
              "      <td>-0.162742</td>\n",
              "      <td>0.078573</td>\n",
              "      <td>NaN</td>\n",
              "      <td>0.130979</td>\n",
              "      <td>0.051618</td>\n",
              "      <td>0.067215</td>\n",
              "      <td>0.030459</td>\n",
              "      <td>-0.005047</td>\n",
              "      <td>0.059525</td>\n",
              "      <td>0.040782</td>\n",
              "      <td>0.181600</td>\n",
              "      <td>0.196286</td>\n",
              "      <td>0.211442</td>\n",
              "    </tr>\n",
              "    <tr>\n",
              "      <th>Fedu</th>\n",
              "      <td>-0.137541</td>\n",
              "      <td>0.601670</td>\n",
              "      <td>1.000000</td>\n",
              "      <td>-0.101839</td>\n",
              "      <td>-0.000699</td>\n",
              "      <td>NaN</td>\n",
              "      <td>0.067522</td>\n",
              "      <td>0.013650</td>\n",
              "      <td>0.037896</td>\n",
              "      <td>0.009241</td>\n",
              "      <td>0.035706</td>\n",
              "      <td>0.108865</td>\n",
              "      <td>-0.057813</td>\n",
              "      <td>0.187432</td>\n",
              "      <td>0.205334</td>\n",
              "      <td>0.202967</td>\n",
              "    </tr>\n",
              "    <tr>\n",
              "      <th>traveltime</th>\n",
              "      <td>0.193153</td>\n",
              "      <td>-0.162742</td>\n",
              "      <td>-0.101839</td>\n",
              "      <td>1.000000</td>\n",
              "      <td>-0.092822</td>\n",
              "      <td>NaN</td>\n",
              "      <td>-0.023918</td>\n",
              "      <td>-0.034542</td>\n",
              "      <td>-0.060235</td>\n",
              "      <td>0.023513</td>\n",
              "      <td>0.042578</td>\n",
              "      <td>-0.059471</td>\n",
              "      <td>-0.023689</td>\n",
              "      <td>0.017882</td>\n",
              "      <td>-0.026189</td>\n",
              "      <td>-0.026439</td>\n",
              "    </tr>\n",
              "    <tr>\n",
              "      <th>studytime</th>\n",
              "      <td>0.145908</td>\n",
              "      <td>0.078573</td>\n",
              "      <td>-0.000699</td>\n",
              "      <td>-0.092822</td>\n",
              "      <td>1.000000</td>\n",
              "      <td>NaN</td>\n",
              "      <td>0.091860</td>\n",
              "      <td>-0.081147</td>\n",
              "      <td>0.084492</td>\n",
              "      <td>-0.147734</td>\n",
              "      <td>-0.177747</td>\n",
              "      <td>-0.056260</td>\n",
              "      <td>-0.090303</td>\n",
              "      <td>0.076413</td>\n",
              "      <td>0.041740</td>\n",
              "      <td>0.034994</td>\n",
              "    </tr>\n",
              "    <tr>\n",
              "      <th>failures</th>\n",
              "      <td>NaN</td>\n",
              "      <td>NaN</td>\n",
              "      <td>NaN</td>\n",
              "      <td>NaN</td>\n",
              "      <td>NaN</td>\n",
              "      <td>NaN</td>\n",
              "      <td>NaN</td>\n",
              "      <td>NaN</td>\n",
              "      <td>NaN</td>\n",
              "      <td>NaN</td>\n",
              "      <td>NaN</td>\n",
              "      <td>NaN</td>\n",
              "      <td>NaN</td>\n",
              "      <td>NaN</td>\n",
              "      <td>NaN</td>\n",
              "      <td>NaN</td>\n",
              "    </tr>\n",
              "    <tr>\n",
              "      <th>famrel</th>\n",
              "      <td>0.007074</td>\n",
              "      <td>0.130979</td>\n",
              "      <td>0.067522</td>\n",
              "      <td>-0.023918</td>\n",
              "      <td>0.091860</td>\n",
              "      <td>NaN</td>\n",
              "      <td>1.000000</td>\n",
              "      <td>0.079207</td>\n",
              "      <td>0.009613</td>\n",
              "      <td>-0.128605</td>\n",
              "      <td>-0.203511</td>\n",
              "      <td>0.043010</td>\n",
              "      <td>-0.140584</td>\n",
              "      <td>0.027702</td>\n",
              "      <td>0.074552</td>\n",
              "      <td>0.102719</td>\n",
              "    </tr>\n",
              "    <tr>\n",
              "      <th>freetime</th>\n",
              "      <td>-0.069113</td>\n",
              "      <td>0.051618</td>\n",
              "      <td>0.013650</td>\n",
              "      <td>-0.034542</td>\n",
              "      <td>-0.081147</td>\n",
              "      <td>NaN</td>\n",
              "      <td>0.079207</td>\n",
              "      <td>1.000000</td>\n",
              "      <td>0.161546</td>\n",
              "      <td>0.093559</td>\n",
              "      <td>0.042538</td>\n",
              "      <td>0.004764</td>\n",
              "      <td>0.053243</td>\n",
              "      <td>0.054888</td>\n",
              "      <td>0.054402</td>\n",
              "      <td>0.058225</td>\n",
              "    </tr>\n",
              "    <tr>\n",
              "      <th>goout</th>\n",
              "      <td>0.184266</td>\n",
              "      <td>0.067215</td>\n",
              "      <td>0.037896</td>\n",
              "      <td>-0.060235</td>\n",
              "      <td>0.084492</td>\n",
              "      <td>NaN</td>\n",
              "      <td>0.009613</td>\n",
              "      <td>0.161546</td>\n",
              "      <td>1.000000</td>\n",
              "      <td>0.161083</td>\n",
              "      <td>0.323687</td>\n",
              "      <td>-0.101798</td>\n",
              "      <td>0.102208</td>\n",
              "      <td>-0.005209</td>\n",
              "      <td>-0.055225</td>\n",
              "      <td>-0.042039</td>\n",
              "    </tr>\n",
              "    <tr>\n",
              "      <th>Dalc</th>\n",
              "      <td>0.106755</td>\n",
              "      <td>0.030459</td>\n",
              "      <td>0.009241</td>\n",
              "      <td>0.023513</td>\n",
              "      <td>-0.147734</td>\n",
              "      <td>NaN</td>\n",
              "      <td>-0.128605</td>\n",
              "      <td>0.093559</td>\n",
              "      <td>0.161083</td>\n",
              "      <td>1.000000</td>\n",
              "      <td>0.553492</td>\n",
              "      <td>0.080917</td>\n",
              "      <td>-0.027068</td>\n",
              "      <td>-0.094399</td>\n",
              "      <td>-0.068661</td>\n",
              "      <td>-0.073856</td>\n",
              "    </tr>\n",
              "    <tr>\n",
              "      <th>Walc</th>\n",
              "      <td>0.153016</td>\n",
              "      <td>-0.005047</td>\n",
              "      <td>0.035706</td>\n",
              "      <td>0.042578</td>\n",
              "      <td>-0.177747</td>\n",
              "      <td>NaN</td>\n",
              "      <td>-0.203511</td>\n",
              "      <td>0.042538</td>\n",
              "      <td>0.323687</td>\n",
              "      <td>0.553492</td>\n",
              "      <td>1.000000</td>\n",
              "      <td>0.037402</td>\n",
              "      <td>0.123025</td>\n",
              "      <td>-0.048632</td>\n",
              "      <td>-0.085469</td>\n",
              "      <td>-0.056639</td>\n",
              "    </tr>\n",
              "    <tr>\n",
              "      <th>health</th>\n",
              "      <td>-0.109873</td>\n",
              "      <td>0.059525</td>\n",
              "      <td>0.108865</td>\n",
              "      <td>-0.059471</td>\n",
              "      <td>-0.056260</td>\n",
              "      <td>NaN</td>\n",
              "      <td>0.043010</td>\n",
              "      <td>0.004764</td>\n",
              "      <td>-0.101798</td>\n",
              "      <td>0.080917</td>\n",
              "      <td>0.037402</td>\n",
              "      <td>1.000000</td>\n",
              "      <td>-0.045747</td>\n",
              "      <td>0.005403</td>\n",
              "      <td>0.028502</td>\n",
              "      <td>0.037211</td>\n",
              "    </tr>\n",
              "    <tr>\n",
              "      <th>absences</th>\n",
              "      <td>0.202745</td>\n",
              "      <td>0.040782</td>\n",
              "      <td>-0.057813</td>\n",
              "      <td>-0.023689</td>\n",
              "      <td>-0.090303</td>\n",
              "      <td>NaN</td>\n",
              "      <td>-0.140584</td>\n",
              "      <td>0.053243</td>\n",
              "      <td>0.102208</td>\n",
              "      <td>-0.027068</td>\n",
              "      <td>0.123025</td>\n",
              "      <td>-0.045747</td>\n",
              "      <td>1.000000</td>\n",
              "      <td>-0.027251</td>\n",
              "      <td>-0.156771</td>\n",
              "      <td>-0.078038</td>\n",
              "    </tr>\n",
              "    <tr>\n",
              "      <th>G1</th>\n",
              "      <td>-0.046773</td>\n",
              "      <td>0.181600</td>\n",
              "      <td>0.187432</td>\n",
              "      <td>0.017882</td>\n",
              "      <td>0.076413</td>\n",
              "      <td>NaN</td>\n",
              "      <td>0.027702</td>\n",
              "      <td>0.054888</td>\n",
              "      <td>-0.005209</td>\n",
              "      <td>-0.094399</td>\n",
              "      <td>-0.048632</td>\n",
              "      <td>0.005403</td>\n",
              "      <td>-0.027251</td>\n",
              "      <td>1.000000</td>\n",
              "      <td>0.904159</td>\n",
              "      <td>0.847117</td>\n",
              "    </tr>\n",
              "    <tr>\n",
              "      <th>G2</th>\n",
              "      <td>-0.155020</td>\n",
              "      <td>0.196286</td>\n",
              "      <td>0.205334</td>\n",
              "      <td>-0.026189</td>\n",
              "      <td>0.041740</td>\n",
              "      <td>NaN</td>\n",
              "      <td>0.074552</td>\n",
              "      <td>0.054402</td>\n",
              "      <td>-0.055225</td>\n",
              "      <td>-0.068661</td>\n",
              "      <td>-0.085469</td>\n",
              "      <td>0.028502</td>\n",
              "      <td>-0.156771</td>\n",
              "      <td>0.904159</td>\n",
              "      <td>1.000000</td>\n",
              "      <td>0.913309</td>\n",
              "    </tr>\n",
              "    <tr>\n",
              "      <th>G3</th>\n",
              "      <td>-0.176476</td>\n",
              "      <td>0.211442</td>\n",
              "      <td>0.202967</td>\n",
              "      <td>-0.026439</td>\n",
              "      <td>0.034994</td>\n",
              "      <td>NaN</td>\n",
              "      <td>0.102719</td>\n",
              "      <td>0.058225</td>\n",
              "      <td>-0.042039</td>\n",
              "      <td>-0.073856</td>\n",
              "      <td>-0.056639</td>\n",
              "      <td>0.037211</td>\n",
              "      <td>-0.078038</td>\n",
              "      <td>0.847117</td>\n",
              "      <td>0.913309</td>\n",
              "      <td>1.000000</td>\n",
              "    </tr>\n",
              "  </tbody>\n",
              "</table>\n",
              "</div>"
            ],
            "text/plain": [
              "                 age      Medu      Fedu  ...        G1        G2        G3\n",
              "age         1.000000 -0.120303 -0.137541  ... -0.046773 -0.155020 -0.176476\n",
              "Medu       -0.120303  1.000000  0.601670  ...  0.181600  0.196286  0.211442\n",
              "Fedu       -0.137541  0.601670  1.000000  ...  0.187432  0.205334  0.202967\n",
              "traveltime  0.193153 -0.162742 -0.101839  ...  0.017882 -0.026189 -0.026439\n",
              "studytime   0.145908  0.078573 -0.000699  ...  0.076413  0.041740  0.034994\n",
              "failures         NaN       NaN       NaN  ...       NaN       NaN       NaN\n",
              "famrel      0.007074  0.130979  0.067522  ...  0.027702  0.074552  0.102719\n",
              "freetime   -0.069113  0.051618  0.013650  ...  0.054888  0.054402  0.058225\n",
              "goout       0.184266  0.067215  0.037896  ... -0.005209 -0.055225 -0.042039\n",
              "Dalc        0.106755  0.030459  0.009241  ... -0.094399 -0.068661 -0.073856\n",
              "Walc        0.153016 -0.005047  0.035706  ... -0.048632 -0.085469 -0.056639\n",
              "health     -0.109873  0.059525  0.108865  ...  0.005403  0.028502  0.037211\n",
              "absences    0.202745  0.040782 -0.057813  ... -0.027251 -0.156771 -0.078038\n",
              "G1         -0.046773  0.181600  0.187432  ...  1.000000  0.904159  0.847117\n",
              "G2         -0.155020  0.196286  0.205334  ...  0.904159  1.000000  0.913309\n",
              "G3         -0.176476  0.211442  0.202967  ...  0.847117  0.913309  1.000000\n",
              "\n",
              "[16 rows x 16 columns]"
            ]
          },
          "metadata": {
            "tags": []
          },
          "execution_count": 18
        },
        {
          "output_type": "display_data",
          "data": {
            "image/png": "[encoded data removed]",
            "text/plain": [
              "<Figure size 720x360 with 2 Axes>"
            ]
          },
          "metadata": {
            "tags": [],
            "needs_background": "light"
          }
        }
      ]
    },
    {
      "cell_type": "markdown",
      "metadata": {
        "id": "7QSrY1MdGQzi"
      },
      "source": [
        "Scatterplot. The amount of studytime against the absences of children in secondary school. "
      ]
    },
    {
      "cell_type": "markdown",
      "metadata": {
        "id": "f6UPs946IqKO"
      },
      "source": [
        "Does the absences effect studytime? \r\n",
        "I want to say that it does but since it looks like the results are unidentified. "
      ]
    },
    {
      "cell_type": "code",
      "metadata": {
        "colab": {
          "base_uri": "https://localhost:8080/",
          "height": 334
        },
        "id": "HtFD4YrhkjYd",
        "outputId": "c6a8c3b5-3d8c-4412-9c5b-3a01aeeef439"
      },
      "source": [
        "fig, ax=plt.subplots(figsize=(9,5))\r\n",
        "ax.scatter(df['absences'], df['studytime'])\r\n",
        "ax.set_xlabel('studytime')\r\n",
        "ax.set_ylabel('absences')\r\n",
        "plt.show()\r\n"
      ],
      "execution_count": null,
      "outputs": [
        {
          "output_type": "display_data",
          "data": {
            "image/png": "[encoded data removed]",
            "text/plain": [
              "<Figure size 648x360 with 1 Axes>"
            ]
          },
          "metadata": {
            "tags": [],
            "needs_background": "light"
          }
        }
      ]
    }
  ]
}