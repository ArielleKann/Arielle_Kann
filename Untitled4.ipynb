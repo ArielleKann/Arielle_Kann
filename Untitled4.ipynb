{
  "nbformat": 4,
  "nbformat_minor": 0,
  "metadata": {
    "colab": {
      "name": "Untitled4.ipynb",
      "provenance": [],
      "authorship_tag": "ABX9TyM2xgOZMJAO5h7HJkGrlqv2",
      "include_colab_link": true
    },
    "kernelspec": {
      "name": "python3",
      "display_name": "Python 3"
    }
  },
  "cells": [
    {
      "cell_type": "markdown",
      "metadata": {
        "id": "view-in-github",
        "colab_type": "text"
      },
      "source": [
        "<a href=\"https://colab.research.google.com/github/ArielleKann/Arielle_Kann/blob/master/Untitled4.ipynb\" target=\"_parent\"><img src=\"https://colab.research.google.com/assets/colab-badge.svg\" alt=\"Open In Colab\"/></a>"
      ]
    },
    {
      "cell_type": "code",
      "metadata": {
        "id": "sg_stu7cLT3A",
        "colab_type": "code",
        "colab": {}
      },
      "source": [
        ""
      ],
      "execution_count": null,
      "outputs": []
    },
    {
      "cell_type": "code",
      "metadata": {
        "id": "Oec18vJoL0tj",
        "colab_type": "code",
        "colab": {
          "base_uri": "https://localhost:8080/",
          "height": 249
        },
        "outputId": "1f730401-7c57-4852-c4e9-03b663e245a6"
      },
      "source": [
        "#ask for input\n",
        "P= int(input(\"enter number of packages purchased: \"))\n",
        "\n",
        "#calculate total price\n",
        "Total_price = P * 99\n",
        "\n",
        "#first condition\n",
        "if P >= 10 and P <= 19:\n",
        "  d = Total_price * 0.1\n",
        "  Final_Price=Total_Price - d\n",
        "  print(\" amount of discount is: \", d)\n",
        "  print()\n",
        "\n",
        " #second condition \n",
        "elif P>= 20 and P<= 49:\n",
        "   d = Total_Price * 0.2\n",
        "   Final_Price = Total_Price - d\n",
        "   print(\"Amount of discount is: \",d)\n",
        "   print()\n",
        "   print(\"Total Amount after discount is \",Final_Price)\n",
        "   print()\n",
        "\n",
        " #third condition\n",
        "elif P>=50 and P<=99:\n",
        "   d=Total_Price * 0.3\n",
        "   Final_Price=Total_Price-d\n",
        "   print(\"amount of discount is: \",d) \n",
        "   print()\n",
        "   print(\"Total amount after discount is: \",Final_Price)\n",
        "   print()\n",
        " #fourth condition \n",
        "elif P >= 100:\n",
        "   d =Total_Price * 0.4\n",
        "   Final_Price=Total_Price - d\n",
        "   print(\"Amount of discount is: \",d)\n",
        "   print()\n",
        "   print(\"Total Amount after discount is: \",Final_Price)\n",
        "   print()\n",
        "  \n"
      ],
      "execution_count": 13,
      "outputs": [
        {
          "output_type": "stream",
          "text": [
            "enter number of packages purchased: 30\n"
          ],
          "name": "stdout"
        },
        {
          "output_type": "error",
          "ename": "NameError",
          "evalue": "ignored",
          "traceback": [
            "\u001b[0;31m---------------------------------------------------------------------------\u001b[0m",
            "\u001b[0;31mNameError\u001b[0m                                 Traceback (most recent call last)",
            "\u001b[0;32m<ipython-input-13-d6e6a56aa7b2>\u001b[0m in \u001b[0;36m<module>\u001b[0;34m()\u001b[0m\n\u001b[1;32m     14\u001b[0m  \u001b[0;31m#second condition\u001b[0m\u001b[0;34m\u001b[0m\u001b[0;34m\u001b[0m\u001b[0;34m\u001b[0m\u001b[0m\n\u001b[1;32m     15\u001b[0m \u001b[0;32melif\u001b[0m \u001b[0mP\u001b[0m\u001b[0;34m>=\u001b[0m \u001b[0;36m20\u001b[0m \u001b[0;32mand\u001b[0m \u001b[0mP\u001b[0m\u001b[0;34m<=\u001b[0m \u001b[0;36m49\u001b[0m\u001b[0;34m:\u001b[0m\u001b[0;34m\u001b[0m\u001b[0;34m\u001b[0m\u001b[0m\n\u001b[0;32m---> 16\u001b[0;31m    \u001b[0md\u001b[0m \u001b[0;34m=\u001b[0m \u001b[0mTotal_Price\u001b[0m \u001b[0;34m*\u001b[0m \u001b[0;36m0.2\u001b[0m\u001b[0;34m\u001b[0m\u001b[0;34m\u001b[0m\u001b[0m\n\u001b[0m\u001b[1;32m     17\u001b[0m    \u001b[0mFinal_Price\u001b[0m \u001b[0;34m=\u001b[0m \u001b[0mTotal_Price\u001b[0m \u001b[0;34m-\u001b[0m \u001b[0md\u001b[0m\u001b[0;34m\u001b[0m\u001b[0;34m\u001b[0m\u001b[0m\n\u001b[1;32m     18\u001b[0m    \u001b[0mprint\u001b[0m\u001b[0;34m(\u001b[0m\u001b[0;34m\"Amount of discount is: \"\u001b[0m\u001b[0;34m,\u001b[0m\u001b[0md\u001b[0m\u001b[0;34m)\u001b[0m\u001b[0;34m\u001b[0m\u001b[0;34m\u001b[0m\u001b[0m\n",
            "\u001b[0;31mNameError\u001b[0m: name 'Total_Price' is not defined"
          ]
        }
      ]
    },
    {
      "cell_type": "markdown",
      "metadata": {
        "id": "j1WqJXGqLWv1",
        "colab_type": "text"
      },
      "source": [
        "A software company sells a package that retails for $99. Depending on the amount purchased a discount is recieved. "
      ]
    }
  ]
}