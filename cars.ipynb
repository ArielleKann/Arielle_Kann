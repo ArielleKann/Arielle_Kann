{
  "nbformat": 4,
  "nbformat_minor": 0,
  "metadata": {
    "colab": {
      "name": "Untitled9.ipynb",
      "provenance": [],
      "authorship_tag": "ABX9TyOYXWbXD2YZKyJEGfiJ7QBo",
      "include_colab_link": true
    },
    "kernelspec": {
      "name": "python3",
      "display_name": "Python 3"
    }
  },
  "cells": [
    {
      "cell_type": "markdown",
      "metadata": {
        "id": "view-in-github",
        "colab_type": "text"
      },
      "source": [
        "<a href=\"https://colab.research.google.com/github/ArielleKann/Arielle_Kann/blob/master/cars.ipynb\" target=\"_parent\"><img src=\"https://colab.research.google.com/assets/colab-badge.svg\" alt=\"Open In Colab\"/></a>"
      ]
    },
    {
      "cell_type": "code",
      "metadata": {
        "id": "HG4ZEdC6h18B",
        "outputId": "b3e7d86e-13c0-499f-ed67-abaa6e7cdb6d",
        "colab": {
          "base_uri": "https://localhost:8080/",
          "height": 204
        }
      },
      "source": [
        "import pandas as pd\n",
        "import numpy as np\n",
        "import matplotlib.pyplot as plt\n",
        "import missingno as msno\n",
        "import seaborn as sns \n",
        "\n",
        "\n",
        "df = pd.read_csv(\"https://raw.githubusercontent.com/ArielleKann/Data/main/cars.csv\")\n",
        "df.head()"
      ],
      "execution_count": 66,
      "outputs": [
        {
          "output_type": "execute_result",
          "data": {
            "text/html": [
              "<div>\n",
              "<style scoped>\n",
              "    .dataframe tbody tr th:only-of-type {\n",
              "        vertical-align: middle;\n",
              "    }\n",
              "\n",
              "    .dataframe tbody tr th {\n",
              "        vertical-align: top;\n",
              "    }\n",
              "\n",
              "    .dataframe thead th {\n",
              "        text-align: right;\n",
              "    }\n",
              "</style>\n",
              "<table border=\"1\" class=\"dataframe\">\n",
              "  <thead>\n",
              "    <tr style=\"text-align: right;\">\n",
              "      <th></th>\n",
              "      <th>Car,MPG,Cylinders,Displacement,Horsepower,Weight,Acceleration,Model,Origin</th>\n",
              "    </tr>\n",
              "  </thead>\n",
              "  <tbody>\n",
              "    <tr>\n",
              "      <th>0</th>\n",
              "      <td>STRING,DOUBLE,INT,DOUBLE,DOUBLE,DOUBLE,DOUBLE,...</td>\n",
              "    </tr>\n",
              "    <tr>\n",
              "      <th>1</th>\n",
              "      <td>Chevrolet Chevelle Malibu,18.0,8,307.0,130.0,3...</td>\n",
              "    </tr>\n",
              "    <tr>\n",
              "      <th>2</th>\n",
              "      <td>Buick Skylark 320,15.0,8,350.0,165.0,3693.,11....</td>\n",
              "    </tr>\n",
              "    <tr>\n",
              "      <th>3</th>\n",
              "      <td>Plymouth Satellite,18.0,8,318.0,150.0,3436.,11...</td>\n",
              "    </tr>\n",
              "    <tr>\n",
              "      <th>4</th>\n",
              "      <td>AMC Rebel SST,16.0,8,304.0,150.0,3433.,12.0,70,US</td>\n",
              "    </tr>\n",
              "  </tbody>\n",
              "</table>\n",
              "</div>"
            ],
            "text/plain": [
              "  Car,MPG,Cylinders,Displacement,Horsepower,Weight,Acceleration,Model,Origin\n",
              "0  STRING,DOUBLE,INT,DOUBLE,DOUBLE,DOUBLE,DOUBLE,...                        \n",
              "1  Chevrolet Chevelle Malibu,18.0,8,307.0,130.0,3...                        \n",
              "2  Buick Skylark 320,15.0,8,350.0,165.0,3693.,11....                        \n",
              "3  Plymouth Satellite,18.0,8,318.0,150.0,3436.,11...                        \n",
              "4  AMC Rebel SST,16.0,8,304.0,150.0,3433.,12.0,70,US                        "
            ]
          },
          "metadata": {
            "tags": []
          },
          "execution_count": 66
        }
      ]
    },
    {
      "cell_type": "code",
      "metadata": {
        "id": "M1DB2GeS-NND",
        "outputId": "813723e2-0364-4b15-ff0d-204f296f1c60",
        "colab": {
          "base_uri": "https://localhost:8080/"
        }
      },
      "source": [
        "df.isnull().sum()"
      ],
      "execution_count": 63,
      "outputs": [
        {
          "output_type": "execute_result",
          "data": {
            "text/plain": [
              "INDEX                    0\n",
              "TARGET                   0\n",
              "FixedAcidity             0\n",
              "VolatileAcidity          0\n",
              "CitricAcid               0\n",
              "ResidualSugar          616\n",
              "Chlorides              638\n",
              "FreeSulfurDioxide      647\n",
              "TotalSulfurDioxide     682\n",
              "Density                  0\n",
              "pH                     395\n",
              "Sulphates             1210\n",
              "Alcohol                653\n",
              "LabelAppeal              0\n",
              "AcidIndex                0\n",
              "STARS                 3359\n",
              "dtype: int64"
            ]
          },
          "metadata": {
            "tags": []
          },
          "execution_count": 63
        }
      ]
    },
    {
      "cell_type": "code",
      "metadata": {
        "id": "FvEV_6Wk0rL-",
        "outputId": "e2dfda69-9be7-49c9-a35e-47b625476a53",
        "colab": {
          "base_uri": "https://localhost:8080/"
        }
      },
      "source": [
        "df.nunique()"
      ],
      "execution_count": 65,
      "outputs": [
        {
          "output_type": "execute_result",
          "data": {
            "text/plain": [
              "INDEX                 12795\n",
              "TARGET                    9\n",
              "FixedAcidity            470\n",
              "VolatileAcidity         815\n",
              "CitricAcid              602\n",
              "ResidualSugar          2077\n",
              "Chlorides              1663\n",
              "FreeSulfurDioxide       999\n",
              "TotalSulfurDioxide     1370\n",
              "Density                5933\n",
              "pH                      497\n",
              "Sulphates               630\n",
              "Alcohol                 401\n",
              "LabelAppeal               5\n",
              "AcidIndex                14\n",
              "STARS                     4\n",
              "dtype: int64"
            ]
          },
          "metadata": {
            "tags": []
          },
          "execution_count": 65
        }
      ]
    },
    {
      "cell_type": "code",
      "metadata": {
        "id": "DwUisOQOFH8Y",
        "outputId": "1e78c80e-8f82-4f86-ddef-dc1148f24a22",
        "colab": {
          "base_uri": "https://localhost:8080/",
          "height": 173
        }
      },
      "source": [
        "df.describe()"
      ],
      "execution_count": 74,
      "outputs": [
        {
          "output_type": "execute_result",
          "data": {
            "text/html": [
              "<div>\n",
              "<style scoped>\n",
              "    .dataframe tbody tr th:only-of-type {\n",
              "        vertical-align: middle;\n",
              "    }\n",
              "\n",
              "    .dataframe tbody tr th {\n",
              "        vertical-align: top;\n",
              "    }\n",
              "\n",
              "    .dataframe thead th {\n",
              "        text-align: right;\n",
              "    }\n",
              "</style>\n",
              "<table border=\"1\" class=\"dataframe\">\n",
              "  <thead>\n",
              "    <tr style=\"text-align: right;\">\n",
              "      <th></th>\n",
              "      <th>Car,MPG,Cylinders,Displacement,Horsepower,Weight,Acceleration,Model,Origin</th>\n",
              "    </tr>\n",
              "  </thead>\n",
              "  <tbody>\n",
              "    <tr>\n",
              "      <th>count</th>\n",
              "      <td>407</td>\n",
              "    </tr>\n",
              "    <tr>\n",
              "      <th>unique</th>\n",
              "      <td>407</td>\n",
              "    </tr>\n",
              "    <tr>\n",
              "      <th>top</th>\n",
              "      <td>Buick Century Special,20.6,6,231.0,105.0,3380....</td>\n",
              "    </tr>\n",
              "    <tr>\n",
              "      <th>freq</th>\n",
              "      <td>1</td>\n",
              "    </tr>\n",
              "  </tbody>\n",
              "</table>\n",
              "</div>"
            ],
            "text/plain": [
              "       Car,MPG,Cylinders,Displacement,Horsepower,Weight,Acceleration,Model,Origin\n",
              "count                                                 407                        \n",
              "unique                                                407                        \n",
              "top     Buick Century Special,20.6,6,231.0,105.0,3380....                        \n",
              "freq                                                    1                        "
            ]
          },
          "metadata": {
            "tags": []
          },
          "execution_count": 74
        }
      ]
    },
    {
      "cell_type": "code",
      "metadata": {
        "id": "L4EXg3UnfHl_"
      },
      "source": [
        "sns.catplot(data=df, kind='box', height=4, aspect=2)\n"
      ],
      "execution_count": null,
      "outputs": []
    },
    {
      "cell_type": "code",
      "metadata": {
        "id": "GyHrpRqpgY21"
      },
      "source": [
        "sns.catplot(x= 'INDEX', data=df , kind='count' , height=3, aspect=1.1)"
      ],
      "execution_count": null,
      "outputs": []
    },
    {
      "cell_type": "code",
      "metadata": {
        "id": "TSgiNb_zhSBT"
      },
      "source": [
        "df.hist(figsize=(15, 10), bins=20, xlabelsize=10, ylabelsize=10)"
      ],
      "execution_count": null,
      "outputs": []
    },
    {
      "cell_type": "code",
      "metadata": {
        "id": "0X1_fceEhzNQ"
      },
      "source": [
        ""
      ],
      "execution_count": null,
      "outputs": []
    }
  ]
}